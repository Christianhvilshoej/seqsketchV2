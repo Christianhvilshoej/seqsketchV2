{
 "cells": [
  {
   "cell_type": "code",
   "execution_count": 2,
   "metadata": {},
   "outputs": [],
   "source": [
    "%load_ext autoreload\n",
    "%autoreload 2\n",
    "\n",
    "from seqsketch.utils.config import Config\n",
    "from pathlib import Path\n",
    "import torch\n",
    "import numpy as np"
   ]
  },
  {
   "cell_type": "code",
   "execution_count": 168,
   "metadata": {},
   "outputs": [],
   "source": [
    "file = \"test.yaml\"\n",
    "\n",
    "configurator = Config(\n",
    "        config_file=\"seqsketch/configs/\" + file )\n",
    "\n",
    "config = configurator.get_config()\n",
    "dataloader = configurator.get_dataloader()\n",
    "#print(config.model.params.denoising_network.params)\n",
    "model = configurator.get_model()\n",
    "#params = config.model.params.denoising_network.params\n"
   ]
  },
  {
   "cell_type": "code",
   "execution_count": null,
   "metadata": {},
   "outputs": [],
   "source": [
    "#from seqsketch.models import StrokeDenoiser,StrokeEncoder, CrossAttentionDecoder"
   ]
  },
  {
   "cell_type": "code",
   "execution_count": 169,
   "metadata": {},
   "outputs": [],
   "source": [
    "batch = next(iter(dataloader.train_dataloader()))\n",
    "_,_,x,c, x_mask, c_mask = batch.values()"
   ]
  },
  {
   "cell_type": "code",
   "execution_count": 293,
   "metadata": {},
   "outputs": [],
   "source": [
    "import torch\n",
    "import torch.nn as nn\n",
    "\n",
    "class CrossAttentionDecoder(nn.Module):\n",
    "    def __init__(self, d_model=128, nhead=4, ff_dim=256, num_layers=3, seq_length=32):\n",
    "        super().__init__()\n",
    "        self.seq_length = seq_length  # L\n",
    "        self.output_dim = 2  # For (x, y) coordinates\n",
    "\n",
    "        # Transformer decoder layer\n",
    "        decoder_layer = nn.TransformerDecoderLayer(\n",
    "            d_model=d_model, nhead=nhead, dim_feedforward=ff_dim, batch_first=True\n",
    "        )\n",
    "        self.decoder = nn.TransformerDecoder(decoder_layer, num_layers=num_layers)\n",
    "        self.combined_embedding = nn.Linear(2 * d_model, d_model) \n",
    "        # Linear projection to noise prediction\n",
    "        self.final = nn.Linear(d_model, self.output_dim)\n",
    "\n",
    "    def forward(self, x_emb, c_emb, t_emb):\n",
    "        \"\"\"\n",
    "        Args:\n",
    "            H: Target embedding (B, D) - noisy data.\n",
    "            C: Condition embedding (B, D) - clean historical data.\n",
    "            t: Time embedding (B, D) - time encoding.\n",
    "\n",
    "        Returns:\n",
    "            Noise prediction: (B, 1, L, 2)\n",
    "        \"\"\"\n",
    "        \n",
    "        _, M, _ = c_emb.size()\n",
    "\n",
    "        # Prepare inputs for the decoder\n",
    "        t_expanded = t_emb.unsqueeze(1).repeat(1, M, 1)  # Shape: (B, M, D)\n",
    "        context = torch.cat([c_emb, t_expanded], dim=-1)  # Shape: (B, M, 2 * D)\n",
    "        combined_context = self.combined_embedding(context)\n",
    "        # Decoder output\n",
    "        decoded = self.decoder(x_emb, combined_context)  # (B, L, D)\n",
    "        pred = self.final(decoded) # (B, L, 2)\n",
    "        return pred\n"
   ]
  },
  {
   "cell_type": "code",
   "execution_count": 294,
   "metadata": {},
   "outputs": [],
   "source": [
    "from seqsketch.models.encoder import StrokeEncoder\n",
    "\n",
    "encoder = StrokeEncoder()\n",
    "x_emb = encoder(x,x_mask)\n",
    "c_emb = encoder(c,c_mask)\n",
    "t_emb = torch.randn((16,128))"
   ]
  },
  {
   "cell_type": "code",
   "execution_count": 295,
   "metadata": {},
   "outputs": [],
   "source": [
    "decoder = CrossAttentionDecoder()\n",
    "out = decoder(x_emb,c_emb,t_emb)"
   ]
  },
  {
   "cell_type": "code",
   "execution_count": null,
   "metadata": {},
   "outputs": [
    {
     "data": {
      "text/plain": [
       "tensor(False)"
      ]
     },
     "execution_count": 298,
     "metadata": {},
     "output_type": "execute_result"
    }
   ],
   "source": []
  },
  {
   "cell_type": "code",
   "execution_count": null,
   "metadata": {},
   "outputs": [],
   "source": [
    "\n",
    "\n",
    "\n",
    "class MultiStrokeEncoder(nn.Module):\n",
    "    def __init__(self, input_dim=128, num_filters=64, kernel_size=3, stride=2, pool_stride=2,\n",
    "                 nhead = 4, num_layers=3, mode = \"tf\"):\n",
    "        super().__init__()\n",
    "\n",
    "        # Convolutional Layers with pooling after each convolution\n",
    "        self.conv1 = nn.Conv1d(input_dim, num_filters, kernel_size=kernel_size, stride=stride, padding=kernel_size//2)\n",
    "        self.pool1 = nn.MaxPool1d(pool_stride)  # Pooling after first convolution\n",
    "        \n",
    "        self.conv2 = nn.Conv1d(num_filters, num_filters*2, kernel_size=kernel_size, stride=stride, padding=kernel_size//2)\n",
    "        self.pool2 = nn.MaxPool1d(pool_stride)  # Pooling after second convolution\n",
    "        \n",
    "        # Transformer Encoder\n",
    "        self.mode = mode\n",
    "        transformer_encoder_layer = nn.TransformerEncoderLayer(d_model=num_filters*2, nhead=nhead, batch_first=True)\n",
    "        self.transformer_encoder = nn.TransformerEncoder(transformer_encoder_layer, num_layers=num_layers)\n",
    "        self.rnn = nn.GRU(input_dim, input_dim, num_layers=num_layers, batch_first=True)\n",
    "\n",
    "    def forward(self, stroke, mask=None):\n",
    "        # Apply first convolution and pooling\n",
    "        stroke = stroke.permute(0, 2, 1)  # Change to (B, D, L) for Conv1d\n",
    "        x = self.conv1(stroke)  # Output shape: (B, num_filters, L/stride)\n",
    "        x = self.pool1(x)  # Output shape: (B, num_filters, (L/stride)/pool_stride)\n",
    "        # Apply second convolution and pooling\n",
    "        x = self.conv2(x)  # Output shape: (B, num_filters*2, (L/stride^2))\n",
    "        x = self.pool2(x)  # Output shape: (B, num_filters*2, (L/stride^2)/pool_stride)\n",
    "        # Reshape for transformer (batch_size, seq_len, feature_dim)\n",
    "        x = x.permute(0, 2, 1)  # Output shape: (B, seq_output_length, num_filters*2)\n",
    "        # Pass through final layer\n",
    "        if self.mode == \"tf\":\n",
    "            x = self.transformer_encoder(x)\n",
    "        elif self.mode == \"rnn\":\n",
    "            x, _ = self.rnn(x)\n",
    "        else:\n",
    "            assert self.mode == \"neither\", \"Ensure that mode is either 'rnn', 'tf' or 'neither'.\"\n",
    "        return x  # Shape: (B, seq_output_length, num_filters*2)\n",
    "\n",
    "\n",
    "multi_encoder = MultiStrokeEncoder()"
   ]
  },
  {
   "cell_type": "code",
   "execution_count": 163,
   "metadata": {},
   "outputs": [
    {
     "name": "stdout",
     "output_type": "stream",
     "text": [
      "torch.Size([16, 64, 128])\n"
     ]
    }
   ],
   "source": [
    "o1 = multi_encoder(out)\n",
    "print(o1.shape)"
   ]
  },
  {
   "cell_type": "code",
   "execution_count": null,
   "metadata": {},
   "outputs": [
    {
     "data": {
      "text/plain": [
       "tensor(False)"
      ]
     },
     "execution_count": 167,
     "metadata": {},
     "output_type": "execute_result"
    }
   ],
   "source": []
  },
  {
   "cell_type": "code",
   "execution_count": 139,
   "metadata": {},
   "outputs": [],
   "source": [
    "mask = c_mask\n",
    "B = 16\n",
    "L = 32\n",
    "N  = 32\n",
    "if mask is None:\n",
    "    lengths = torch.tensor([L] * B * N)\n",
    "else:\n",
    "    if len(mask.shape) == 4:\n",
    "        mask = mask.sum(dim=-1)/2                    # (B x N x L)\n",
    "    stroke_mask = mask.view(B * N, L)                # (B*N, L)\n",
    "    lengths = stroke_mask.sum(dim=-1).cpu().long()   # (B*N,)\n",
    "        \n",
    "    # Identify valid sequences (non-zero lengths)\n",
    "    valid_indices = lengths > 0"
   ]
  },
  {
   "cell_type": "code",
   "execution_count": 146,
   "metadata": {},
   "outputs": [
    {
     "data": {
      "text/plain": [
       "tensor([[-0.1024,  0.0372,  0.0032,  ...,  0.0843, -0.0519, -0.0910],\n",
       "        [-0.1024,  0.0372,  0.0032,  ...,  0.0843, -0.0519, -0.0910],\n",
       "        [-0.1024,  0.0372,  0.0032,  ...,  0.0843, -0.0519, -0.0909],\n",
       "        ...,\n",
       "        [-0.1024,  0.0372,  0.0032,  ...,  0.0843, -0.0519, -0.0910],\n",
       "        [-0.1024,  0.0372,  0.0032,  ...,  0.0843, -0.0519, -0.0910],\n",
       "        [-0.1024,  0.0372,  0.0032,  ...,  0.0843, -0.0519, -0.0910]],\n",
       "       grad_fn=<SelectBackward0>)"
      ]
     },
     "execution_count": 146,
     "metadata": {},
     "output_type": "execute_result"
    }
   ],
   "source": [
    "out[:,30]"
   ]
  },
  {
   "cell_type": "code",
   "execution_count": 117,
   "metadata": {},
   "outputs": [
    {
     "data": {
      "text/plain": [
       "torch.Size([32, 20, 512])"
      ]
     },
     "execution_count": 117,
     "metadata": {},
     "output_type": "execute_result"
    }
   ],
   "source": [
    "decoder_layer = nn.TransformerDecoderLayer(d_model=512, nhead=8, batch_first=True)\n",
    "memory = torch.rand(32,30, 512)\n",
    "tgt = torch.rand(32, 20, 512)\n",
    "out3 = decoder_layer(tgt, memory)\n",
    "out3.shape"
   ]
  },
  {
   "cell_type": "code",
   "execution_count": null,
   "metadata": {},
   "outputs": [
    {
     "data": {
      "text/plain": [
       "tensor([[[ 0.4902,  0.2627],\n",
       "         [ 0.9922,  0.2588],\n",
       "         [-1.0000, -1.0000],\n",
       "         ...,\n",
       "         [-1.0000, -1.0000],\n",
       "         [-1.0000, -1.0000],\n",
       "         [-1.0000, -1.0000]],\n",
       "\n",
       "        [[ 0.2510,  0.7843],\n",
       "         [ 0.2431,  0.3294],\n",
       "         [-1.0000, -1.0000],\n",
       "         ...,\n",
       "         [-1.0000, -1.0000],\n",
       "         [-1.0000, -1.0000],\n",
       "         [-1.0000, -1.0000]],\n",
       "\n",
       "        [[ 0.0235,  0.3176],\n",
       "         [ 0.0471,  0.3020],\n",
       "         [ 0.0745,  0.3020],\n",
       "         ...,\n",
       "         [-1.0000, -1.0000],\n",
       "         [-1.0000, -1.0000],\n",
       "         [-1.0000, -1.0000]],\n",
       "\n",
       "        ...,\n",
       "\n",
       "        [[-1.0000, -1.0000],\n",
       "         [-1.0000, -1.0000],\n",
       "         [-1.0000, -1.0000],\n",
       "         ...,\n",
       "         [-1.0000, -1.0000],\n",
       "         [-1.0000, -1.0000],\n",
       "         [-1.0000, -1.0000]],\n",
       "\n",
       "        [[ 0.5569,  0.2431],\n",
       "         [ 0.0627,  0.2392],\n",
       "         [ 0.1725,  0.2196],\n",
       "         ...,\n",
       "         [-1.0000, -1.0000],\n",
       "         [-1.0000, -1.0000],\n",
       "         [-1.0000, -1.0000]],\n",
       "\n",
       "        [[ 0.2275,  0.9137],\n",
       "         [ 0.2078,  0.7922],\n",
       "         [ 0.2392,  0.5725],\n",
       "         ...,\n",
       "         [-1.0000, -1.0000],\n",
       "         [-1.0000, -1.0000],\n",
       "         [-1.0000, -1.0000]]])"
      ]
     },
     "execution_count": 132,
     "metadata": {},
     "output_type": "execute_result"
    }
   ],
   "source": []
  }
 ],
 "metadata": {
  "kernelspec": {
   "display_name": "diff",
   "language": "python",
   "name": "python3"
  },
  "language_info": {
   "codemirror_mode": {
    "name": "ipython",
    "version": 3
   },
   "file_extension": ".py",
   "mimetype": "text/x-python",
   "name": "python",
   "nbconvert_exporter": "python",
   "pygments_lexer": "ipython3",
   "version": "3.10.15"
  }
 },
 "nbformat": 4,
 "nbformat_minor": 2
}
